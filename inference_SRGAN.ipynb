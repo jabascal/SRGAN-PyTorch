{
  "cells": [
    {
      "cell_type": "markdown",
      "metadata": {
        "id": "0Z7iRVsgf5Uu"
      },
      "source": [
        "# Inference for SRGAN"
      ]
    },
    {
      "cell_type": "code",
      "execution_count": null,
      "metadata": {
        "id": "4n8hQ8RTL1n7"
      },
      "outputs": [],
      "source": [
        "# Mount google drive to access files via colab\n",
        "mode_colab = True\n",
        "if mode_colab:\n",
        "    from google.colab import drive\n",
        "    drive.mount(\"/content/gdrive\")"
      ]
    },
    {
      "cell_type": "code",
      "execution_count": null,
      "metadata": {
        "id": "EV9BPypJL6XO"
      },
      "outputs": [],
      "source": [
        "# Path notebook\n",
        "import os\n",
        "\n",
        "# Path results\n",
        "if mode_colab:\n",
        "    # DDPM 512 3.7k sector\n",
        "    path_data = \"/content/gdrive/MyDrive/Colab_Notebooks/Results/dazzly/bw_sector_512/ddpm_mandala_2k_bw_sector_512_unet-att_cont_sect_ep200_lr1e-4/samples_gen_3700epochs/replicated\"\n",
        "    #path_data = \"/content/gdrive/MyDrive/Colab_Notebooks/Results/dazzly/SRGAN_4k_dazzly/4096_bw_test/LR\"\n",
        "    path_model = '/content/gdrive/MyDrive/Colab_Notebooks/Results/dazzly/SRGAN_4k_dazzly/SRGAN_x4_g_16_ep.pth.tar'\n",
        "    path_results = '/content/gdrive/MyDrive/Colab_Notebooks/Results/dazzly/SRGAN_4k_dazzly/srgan_results'\n",
        "\n",
        "if os.path.exists(path_results) == False:\n",
        "    os.makedirs(path_results)\n",
        "    print(f\"Created {path_results}\")"
      ]
    },
    {
      "cell_type": "markdown",
      "metadata": {
        "id": "BlLz1XF2NTRw"
      },
      "source": [
        "## Install and import dependencies"
      ]
    },
    {
      "cell_type": "code",
      "execution_count": null,
      "metadata": {
        "id": "yQmAuzW0fyFc"
      },
      "outputs": [],
      "source": [
        "!git clone https://github.com/jabascal/SRGAN-PyTorch.git\n",
        "os.chdir('SRGAN-PyTorch/')\n",
        "!pip install -r requirements.txt"
      ]
    },
    {
      "cell_type": "markdown",
      "source": [
        "## Load image"
      ],
      "metadata": {
        "id": "lHcYbaNn3SsK"
      }
    },
    {
      "cell_type": "code",
      "source": [
        "# Image input\n",
        "name_image = 'ddpm_mandala_2k_bw_sector_512_ep3700_seed0_sample_0_repl.png'\n",
        "#name_image = 'mandala_2524_bw.png'\n",
        "input = os.path.join(path_data, name_image)"
      ],
      "metadata": {
        "id": "SgyriXe6rRJ4"
      },
      "execution_count": null,
      "outputs": []
    },
    {
      "cell_type": "markdown",
      "metadata": {
        "id": "jOXPl-2GkcMz"
      },
      "source": [
        "## Inference"
      ]
    },
    {
      "cell_type": "code",
      "source": [
        "# Smooth the image\n",
        "from PIL import Image\n",
        "mode_smooth = True\n",
        "if mode_smooth:\n",
        "    print(f\"Smooth the image: {input}\")\n",
        "    # Read the image\n",
        "    image = Image.open(input)\n",
        "\n",
        "    # Apply spatial smoothing with cubic interpolation\n",
        "    size_smoothing = (850, 850)\n",
        "    smoothed_image = image.resize(size_smoothing, Image.BICUBIC)\n",
        "    smoothed_image = smoothed_image.resize(image.size, Image.BICUBIC)\n",
        "\n",
        "    # Save the smoothed image temporarily\n",
        "    new_name = f\"_sm{size_smoothing[0]}.png\"\n",
        "    smoothed_image_path = os.path.join(path_data, name_image.replace(\".png\", new_name))\n",
        "    smoothed_image.save(smoothed_image_path)\n",
        "\n",
        "    input = smoothed_image_path\n",
        "    name_image = smoothed_image_path"
      ],
      "metadata": {
        "id": "SajpFouVrSa6"
      },
      "execution_count": null,
      "outputs": []
    },
    {
      "cell_type": "code",
      "execution_count": null,
      "metadata": {
        "id": "PjAvVwZtlAXB"
      },
      "outputs": [],
      "source": [
        "# Ouput\n",
        "name_output = name_image.replace(\".png\", \"_srganx4.png\")\n",
        "output = os.path.join(path_data, \"SRGAN_x4_16_ep\", name_output)\n",
        "\n",
        "if not os.path.exists(os.path.dirname(output)):\n",
        "    os.makedirs(os.path.dirname(output))\n",
        "    print(f\"Created {os.path.dirname(output)}\")"
      ]
    },
    {
      "cell_type": "code",
      "source": [
        "from IPython.display import Image\n",
        "Image(input)"
      ],
      "metadata": {
        "id": "TFdpl3mHncui"
      },
      "execution_count": null,
      "outputs": []
    },
    {
      "cell_type": "code",
      "execution_count": null,
      "metadata": {
        "id": "E4Wz00r4kdpC"
      },
      "outputs": [],
      "source": [
        "!python3 ./inference.py --inputs $input --model_weights_path $path_model --output $output"
      ]
    },
    {
      "cell_type": "code",
      "execution_count": null,
      "metadata": {
        "id": "XkhheT1Youai"
      },
      "outputs": [],
      "source": [
        "# Plot image\n",
        "Image(output)"
      ]
    },
    {
      "cell_type": "code",
      "source": [],
      "metadata": {
        "id": "L5bmZbYvoo_E"
      },
      "execution_count": null,
      "outputs": []
    }
  ],
  "metadata": {
    "accelerator": "GPU",
    "colab": {
      "gpuType": "L4",
      "machine_shape": "hm",
      "provenance": []
    },
    "kernelspec": {
      "display_name": "Python 3",
      "name": "python3"
    },
    "language_info": {
      "name": "python"
    }
  },
  "nbformat": 4,
  "nbformat_minor": 0
}