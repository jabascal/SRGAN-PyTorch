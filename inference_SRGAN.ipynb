{
 "cells": [
  {
   "cell_type": "markdown",
   "metadata": {
    "id": "0Z7iRVsgf5Uu"
   },
   "source": [
    "# Inference for SRGAN"
   ]
  },
  {
   "cell_type": "code",
   "execution_count": null,
   "metadata": {
    "colab": {
     "base_uri": "https://localhost:8080/"
    },
    "id": "4n8hQ8RTL1n7",
    "outputId": "be76f8d0-1753-49b8-df22-1991462dba7a"
   },
   "outputs": [],
   "source": [
    "# Mount google drive to access files via colab\n",
    "mode_colab = True\n",
    "if mode_colab:\n",
    "    from google.colab import drive\n",
    "    drive.mount(\"/content/gdrive\")"
   ]
  },
  {
   "cell_type": "code",
   "execution_count": null,
   "metadata": {
    "id": "EV9BPypJL6XO"
   },
   "outputs": [],
   "source": [
    "# Path notebook\n",
    "import os\n",
    "\n",
    "# Path results\n",
    "if mode_colab:\n",
    "    # DDPM 512 3.7k sector\n",
    "    path_data = \"/content/gdrive/MyDrive/Colab_Notebooks/Results/dazzly/bw_sector_512/ddpm_mandala_2k_bw_sector_512_unet-att_cont_sect_ep200_lr1e-4/samples_gen_3700epochs/replicated\"\n",
    "    path_model = '/content/gdrive/MyDrive/Colab_Notebooks/Results/dazzly/SRGAN_4k_dazzly/SRGAN_x4_g_16_ep.pth.tar'\n",
    "    path_results = '/content/gdrive/MyDrive/Colab_Notebooks/Results/dazzly/SRGAN_4k_dazzly/srgan_results'\n",
    "    name_results = \"ddpm_mandala_2k_bw_sector_512_ep3-7k_srganx4_16ep\"\n",
    "\n",
    "if os.path.exists(path_results) == False:\n",
    "    os.makedirs(path_results)\n",
    "    print(f\"Created {path_results}\")"
   ]
  },
  {
   "cell_type": "markdown",
   "metadata": {
    "id": "BlLz1XF2NTRw"
   },
   "source": [
    "## Install and import dependencies"
   ]
  },
  {
   "cell_type": "code",
   "execution_count": null,
   "metadata": {
    "id": "yQmAuzW0fyFc"
   },
   "outputs": [],
   "source": [
    "!git clone https://github.com/jabascal/SRGAN-PyTorch.git\n",
    "os.chdir('SRGAN-PyTorch/')\n",
    "!pip install -r requirements.txt"
   ]
  },
  {
   "cell_type": "markdown",
   "metadata": {
    "id": "jOXPl-2GkcMz"
   },
   "source": [
    "## Inference"
   ]
  },
  {
   "cell_type": "code",
   "execution_count": null,
   "metadata": {
    "id": "PjAvVwZtlAXB"
   },
   "outputs": [],
   "source": [
    "# Image input\n",
    "name_image = 'ddpm_mandala_2k_bw_sector_512_ep3700_seed0_sample_0_repl.png'\n",
    "input = os.path.join(path_data, name_image)\n",
    "\n",
    "# Ouput\n",
    "name_output = name_image.replace(\".png\", \"_srganx4.png\")\n",
    "output = os.path.join(path_data, name_output)"
   ]
  },
  {
   "cell_type": "code",
   "execution_count": null,
   "metadata": {
    "colab": {
     "base_uri": "https://localhost:8080/"
    },
    "id": "E4Wz00r4kdpC",
    "outputId": "f6b3fb19-cfd8-42ff-b273-55818174a104"
   },
   "outputs": [],
   "source": [
    "!python3 ./inference.py --inputs $input --model_weights_path $path_model"
   ]
  },
  {
   "cell_type": "code",
   "execution_count": null,
   "metadata": {
    "colab": {
     "background_save": true
    },
    "id": "XkhheT1Youai",
    "outputId": "0b345bba-c442-4926-b6cd-7208c602af5a"
   },
   "outputs": [],
   "source": [
    "# Plot image\n",
    "from IPython.display import Image\n",
    "Image('./figure/sr_comic.png')"
   ]
  }
 ],
 "metadata": {
  "accelerator": "GPU",
  "colab": {
   "gpuType": "L4",
   "machine_shape": "hm",
   "provenance": []
  },
  "kernelspec": {
   "display_name": "Python 3",
   "name": "python3"
  },
  "language_info": {
   "name": "python"
  }
 },
 "nbformat": 4,
 "nbformat_minor": 0
}
